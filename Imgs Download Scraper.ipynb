{
 "cells": [
  {
   "cell_type": "code",
   "execution_count": 1,
   "id": "3aa24989-b475-4ba5-9728-ec1964609cbf",
   "metadata": {},
   "outputs": [],
   "source": [
    "import pandas as pd\n",
    "import requests\n",
    "from tqdm import tqdm"
   ]
  },
  {
   "cell_type": "code",
   "execution_count": 2,
   "id": "fd2ca90f-a9da-4ccf-8646-6282f6111fd7",
   "metadata": {},
   "outputs": [],
   "source": [
    "df=pd.read_csv('Stock Img Scraper.csv')"
   ]
  },
  {
   "cell_type": "code",
   "execution_count": 3,
   "id": "a184d46a-1361-4c9b-a999-2f1f275c4dd1",
   "metadata": {},
   "outputs": [
    {
     "data": {
      "text/html": [
       "<div>\n",
       "<style scoped>\n",
       "    .dataframe tbody tr th:only-of-type {\n",
       "        vertical-align: middle;\n",
       "    }\n",
       "\n",
       "    .dataframe tbody tr th {\n",
       "        vertical-align: top;\n",
       "    }\n",
       "\n",
       "    .dataframe thead th {\n",
       "        text-align: right;\n",
       "    }\n",
       "</style>\n",
       "<table border=\"1\" class=\"dataframe\">\n",
       "  <thead>\n",
       "    <tr style=\"text-align: right;\">\n",
       "      <th></th>\n",
       "      <th>Img_link</th>\n",
       "      <th>Tags</th>\n",
       "      <th>Likes</th>\n",
       "      <th>Comments</th>\n",
       "    </tr>\n",
       "  </thead>\n",
       "  <tbody>\n",
       "    <tr>\n",
       "      <th>0</th>\n",
       "      <td>https://cdn.pixabay.com/photo/2022/03/06/05/30...</td>\n",
       "      <td>Clouds, Sky, Atmosphere, Blue Sky</td>\n",
       "      <td>196 Likes</td>\n",
       "      <td>55 Comments</td>\n",
       "    </tr>\n",
       "    <tr>\n",
       "      <th>1</th>\n",
       "      <td>https://cdn.pixabay.com/photo/2022/04/07/11/45...</td>\n",
       "      <td>Bird, Ornithology, Hummingbird</td>\n",
       "      <td>76 Likes</td>\n",
       "      <td>20 Comments</td>\n",
       "    </tr>\n",
       "    <tr>\n",
       "      <th>2</th>\n",
       "      <td>https://cdn.pixabay.com/photo/2022/02/28/15/28...</td>\n",
       "      <td>Sea, Rainbow, Rainfall, Subtropical</td>\n",
       "      <td>282 Likes</td>\n",
       "      <td>106 Comments</td>\n",
       "    </tr>\n",
       "    <tr>\n",
       "      <th>3</th>\n",
       "      <td>https://cdn.pixabay.com/photo/2022/04/04/02/52...</td>\n",
       "      <td>Cherry Blossoms, Road, Japan, Sakura</td>\n",
       "      <td>42 Likes</td>\n",
       "      <td>11 Comments</td>\n",
       "    </tr>\n",
       "    <tr>\n",
       "      <th>4</th>\n",
       "      <td>https://cdn.pixabay.com/photo/2022/04/09/18/06...</td>\n",
       "      <td>Cape Marguerite, Flower, Plant</td>\n",
       "      <td>39 Likes</td>\n",
       "      <td>15 Comments</td>\n",
       "    </tr>\n",
       "    <tr>\n",
       "      <th>...</th>\n",
       "      <td>...</td>\n",
       "      <td>...</td>\n",
       "      <td>...</td>\n",
       "      <td>...</td>\n",
       "    </tr>\n",
       "    <tr>\n",
       "      <th>991</th>\n",
       "      <td>https://cdn.pixabay.com/photo/2022/04/06/17/42...</td>\n",
       "      <td>Girl, Happy, Talking, Phone Call</td>\n",
       "      <td>7 Likes</td>\n",
       "      <td>1 Comments</td>\n",
       "    </tr>\n",
       "    <tr>\n",
       "      <th>992</th>\n",
       "      <td>https://cdn.pixabay.com/photo/2022/02/03/10/23...</td>\n",
       "      <td>Mushrooms, Plants, Toadstool, Mycology</td>\n",
       "      <td>36 Likes</td>\n",
       "      <td>29 Comments</td>\n",
       "    </tr>\n",
       "    <tr>\n",
       "      <th>993</th>\n",
       "      <td>https://cdn.pixabay.com/photo/2022/04/06/11/27...</td>\n",
       "      <td>Flower, Rose, Bloom, Blossom, Botany</td>\n",
       "      <td>2 Likes</td>\n",
       "      <td>0 Comments</td>\n",
       "    </tr>\n",
       "    <tr>\n",
       "      <th>994</th>\n",
       "      <td>https://cdn.pixabay.com/photo/2020/11/02/07/51...</td>\n",
       "      <td>Leaves, Tree, Fall, Branch, Plant, Flora</td>\n",
       "      <td>137 Likes</td>\n",
       "      <td>41 Comments</td>\n",
       "    </tr>\n",
       "    <tr>\n",
       "      <th>995</th>\n",
       "      <td>https://cdn.pixabay.com/photo/2022/04/06/17/16...</td>\n",
       "      <td>Pills, Medicines, Closeup, Pink</td>\n",
       "      <td>3 Likes</td>\n",
       "      <td>0 Comments</td>\n",
       "    </tr>\n",
       "  </tbody>\n",
       "</table>\n",
       "<p>996 rows × 4 columns</p>\n",
       "</div>"
      ],
      "text/plain": [
       "                                              Img_link  \\\n",
       "0    https://cdn.pixabay.com/photo/2022/03/06/05/30...   \n",
       "1    https://cdn.pixabay.com/photo/2022/04/07/11/45...   \n",
       "2    https://cdn.pixabay.com/photo/2022/02/28/15/28...   \n",
       "3    https://cdn.pixabay.com/photo/2022/04/04/02/52...   \n",
       "4    https://cdn.pixabay.com/photo/2022/04/09/18/06...   \n",
       "..                                                 ...   \n",
       "991  https://cdn.pixabay.com/photo/2022/04/06/17/42...   \n",
       "992  https://cdn.pixabay.com/photo/2022/02/03/10/23...   \n",
       "993  https://cdn.pixabay.com/photo/2022/04/06/11/27...   \n",
       "994  https://cdn.pixabay.com/photo/2020/11/02/07/51...   \n",
       "995  https://cdn.pixabay.com/photo/2022/04/06/17/16...   \n",
       "\n",
       "                                         Tags      Likes       Comments  \n",
       "0           Clouds, Sky, Atmosphere, Blue Sky  196 Likes   55 Comments   \n",
       "1              Bird, Ornithology, Hummingbird   76 Likes   20 Comments   \n",
       "2         Sea, Rainbow, Rainfall, Subtropical  282 Likes  106 Comments   \n",
       "3        Cherry Blossoms, Road, Japan, Sakura   42 Likes   11 Comments   \n",
       "4              Cape Marguerite, Flower, Plant   39 Likes   15 Comments   \n",
       "..                                        ...        ...            ...  \n",
       "991          Girl, Happy, Talking, Phone Call    7 Likes    1 Comments   \n",
       "992    Mushrooms, Plants, Toadstool, Mycology   36 Likes   29 Comments   \n",
       "993      Flower, Rose, Bloom, Blossom, Botany    2 Likes    0 Comments   \n",
       "994  Leaves, Tree, Fall, Branch, Plant, Flora  137 Likes   41 Comments   \n",
       "995           Pills, Medicines, Closeup, Pink    3 Likes    0 Comments   \n",
       "\n",
       "[996 rows x 4 columns]"
      ]
     },
     "execution_count": 3,
     "metadata": {},
     "output_type": "execute_result"
    }
   ],
   "source": [
    "df"
   ]
  },
  {
   "cell_type": "code",
   "execution_count": 4,
   "id": "0de97e6c-819d-4236-985c-b49c9bdc8fda",
   "metadata": {},
   "outputs": [
    {
     "data": {
      "text/html": [
       "<div>\n",
       "<style scoped>\n",
       "    .dataframe tbody tr th:only-of-type {\n",
       "        vertical-align: middle;\n",
       "    }\n",
       "\n",
       "    .dataframe tbody tr th {\n",
       "        vertical-align: top;\n",
       "    }\n",
       "\n",
       "    .dataframe thead th {\n",
       "        text-align: right;\n",
       "    }\n",
       "</style>\n",
       "<table border=\"1\" class=\"dataframe\">\n",
       "  <thead>\n",
       "    <tr style=\"text-align: right;\">\n",
       "      <th></th>\n",
       "      <th>Img_link</th>\n",
       "      <th>Tags</th>\n",
       "      <th>Likes</th>\n",
       "      <th>Comments</th>\n",
       "    </tr>\n",
       "  </thead>\n",
       "  <tbody>\n",
       "    <tr>\n",
       "      <th>0</th>\n",
       "      <td>https://cdn.pixabay.com/photo/2022/03/06/05/30...</td>\n",
       "      <td>Clouds, Sky, Atmosphere, Blue Sky</td>\n",
       "      <td>196 Likes</td>\n",
       "      <td>55 Comments</td>\n",
       "    </tr>\n",
       "    <tr>\n",
       "      <th>1</th>\n",
       "      <td>https://cdn.pixabay.com/photo/2022/04/07/11/45...</td>\n",
       "      <td>Bird, Ornithology, Hummingbird</td>\n",
       "      <td>76 Likes</td>\n",
       "      <td>20 Comments</td>\n",
       "    </tr>\n",
       "    <tr>\n",
       "      <th>2</th>\n",
       "      <td>https://cdn.pixabay.com/photo/2022/02/28/15/28...</td>\n",
       "      <td>Sea, Rainbow, Rainfall, Subtropical</td>\n",
       "      <td>282 Likes</td>\n",
       "      <td>106 Comments</td>\n",
       "    </tr>\n",
       "    <tr>\n",
       "      <th>3</th>\n",
       "      <td>https://cdn.pixabay.com/photo/2022/04/04/02/52...</td>\n",
       "      <td>Cherry Blossoms, Road, Japan, Sakura</td>\n",
       "      <td>42 Likes</td>\n",
       "      <td>11 Comments</td>\n",
       "    </tr>\n",
       "    <tr>\n",
       "      <th>4</th>\n",
       "      <td>https://cdn.pixabay.com/photo/2022/04/09/18/06...</td>\n",
       "      <td>Cape Marguerite, Flower, Plant</td>\n",
       "      <td>39 Likes</td>\n",
       "      <td>15 Comments</td>\n",
       "    </tr>\n",
       "  </tbody>\n",
       "</table>\n",
       "</div>"
      ],
      "text/plain": [
       "                                            Img_link  \\\n",
       "0  https://cdn.pixabay.com/photo/2022/03/06/05/30...   \n",
       "1  https://cdn.pixabay.com/photo/2022/04/07/11/45...   \n",
       "2  https://cdn.pixabay.com/photo/2022/02/28/15/28...   \n",
       "3  https://cdn.pixabay.com/photo/2022/04/04/02/52...   \n",
       "4  https://cdn.pixabay.com/photo/2022/04/09/18/06...   \n",
       "\n",
       "                                   Tags      Likes       Comments  \n",
       "0     Clouds, Sky, Atmosphere, Blue Sky  196 Likes   55 Comments   \n",
       "1        Bird, Ornithology, Hummingbird   76 Likes   20 Comments   \n",
       "2   Sea, Rainbow, Rainfall, Subtropical  282 Likes  106 Comments   \n",
       "3  Cherry Blossoms, Road, Japan, Sakura   42 Likes   11 Comments   \n",
       "4        Cape Marguerite, Flower, Plant   39 Likes   15 Comments   "
      ]
     },
     "execution_count": 4,
     "metadata": {},
     "output_type": "execute_result"
    }
   ],
   "source": [
    "df.head()"
   ]
  },
  {
   "cell_type": "code",
   "execution_count": 5,
   "id": "b3933652-5db5-49ae-8ecb-6d0dee979f12",
   "metadata": {},
   "outputs": [
    {
     "data": {
      "text/plain": [
       "'https://cdn.pixabay.com/photo/2022/03/03/11/18/nature-7045125__340.jpg'"
      ]
     },
     "execution_count": 5,
     "metadata": {},
     "output_type": "execute_result"
    }
   ],
   "source": [
    "df['Img_link'][26]"
   ]
  },
  {
   "cell_type": "code",
   "execution_count": 6,
   "id": "845d60ce-aa8c-4985-b592-1b7fa7b4461f",
   "metadata": {},
   "outputs": [],
   "source": [
    "link=df['Img_link'][0]\n",
    "res=requests.get(link)"
   ]
  },
  {
   "cell_type": "code",
   "execution_count": 7,
   "id": "5b80a5d3-24c7-4a33-a827-94b09b573034",
   "metadata": {},
   "outputs": [
    {
     "data": {
      "text/plain": [
       "<Response [200]>"
      ]
     },
     "execution_count": 7,
     "metadata": {},
     "output_type": "execute_result"
    }
   ],
   "source": [
    "res"
   ]
  },
  {
   "cell_type": "code",
   "execution_count": 8,
   "id": "aad00e0f-848d-4225-bd65-6fcb59aa4480",
   "metadata": {},
   "outputs": [],
   "source": [
    "fd=open('Img.png','wb')\n",
    "fd.write(res.content)\n",
    "fd.close()"
   ]
  },
  {
   "cell_type": "code",
   "execution_count": 9,
   "id": "0ca4d364-b48e-4a05-9c46-689203d9c359",
   "metadata": {},
   "outputs": [
    {
     "name": "stderr",
     "output_type": "stream",
     "text": [
      "100%|████████████████████████████████████████████████████████████████████████████████| 996/996 [06:53<00:00,  2.41it/s]\n"
     ]
    }
   ],
   "source": [
    "path=[]\n",
    "for link in tqdm(df['Img_link']):\n",
    "    res=requests.get(link)\n",
    "    fd=open('Images/'+link.split('/')[-1],'wb')\n",
    "    path.append('Images/'+link.split('/')[-1])\n",
    "    fd.write(res.content)\n",
    "    fd.close()"
   ]
  },
  {
   "cell_type": "code",
   "execution_count": 30,
   "id": "841d461a-15ab-406b-a32a-13ac621f48a4",
   "metadata": {},
   "outputs": [],
   "source": [
    "df['Path']=path"
   ]
  },
  {
   "cell_type": "code",
   "execution_count": 32,
   "id": "c6fb43f9-b333-4d91-af66-94f4f15cbed5",
   "metadata": {},
   "outputs": [
    {
     "data": {
      "text/html": [
       "<div>\n",
       "<style scoped>\n",
       "    .dataframe tbody tr th:only-of-type {\n",
       "        vertical-align: middle;\n",
       "    }\n",
       "\n",
       "    .dataframe tbody tr th {\n",
       "        vertical-align: top;\n",
       "    }\n",
       "\n",
       "    .dataframe thead th {\n",
       "        text-align: right;\n",
       "    }\n",
       "</style>\n",
       "<table border=\"1\" class=\"dataframe\">\n",
       "  <thead>\n",
       "    <tr style=\"text-align: right;\">\n",
       "      <th></th>\n",
       "      <th>Img_link</th>\n",
       "      <th>Tags</th>\n",
       "      <th>Likes</th>\n",
       "      <th>Comments</th>\n",
       "      <th>Path</th>\n",
       "    </tr>\n",
       "  </thead>\n",
       "  <tbody>\n",
       "    <tr>\n",
       "      <th>0</th>\n",
       "      <td>https://cdn.pixabay.com/photo/2022/03/06/05/30...</td>\n",
       "      <td>Clouds, Sky, Atmosphere, Blue Sky</td>\n",
       "      <td>196 Likes</td>\n",
       "      <td>55 Comments</td>\n",
       "      <td>Images/clouds-7050884__480.jpg</td>\n",
       "    </tr>\n",
       "    <tr>\n",
       "      <th>1</th>\n",
       "      <td>https://cdn.pixabay.com/photo/2022/04/07/11/45...</td>\n",
       "      <td>Bird, Ornithology, Hummingbird</td>\n",
       "      <td>76 Likes</td>\n",
       "      <td>20 Comments</td>\n",
       "      <td>Images/bird-7117346__340.jpg</td>\n",
       "    </tr>\n",
       "    <tr>\n",
       "      <th>2</th>\n",
       "      <td>https://cdn.pixabay.com/photo/2022/02/28/15/28...</td>\n",
       "      <td>Sea, Rainbow, Rainfall, Subtropical</td>\n",
       "      <td>282 Likes</td>\n",
       "      <td>106 Comments</td>\n",
       "      <td>Images/sea-7039471__340.jpg</td>\n",
       "    </tr>\n",
       "    <tr>\n",
       "      <th>3</th>\n",
       "      <td>https://cdn.pixabay.com/photo/2022/04/04/02/52...</td>\n",
       "      <td>Cherry Blossoms, Road, Japan, Sakura</td>\n",
       "      <td>42 Likes</td>\n",
       "      <td>11 Comments</td>\n",
       "      <td>Images/cherry-blossoms-7110279__340.jpg</td>\n",
       "    </tr>\n",
       "    <tr>\n",
       "      <th>4</th>\n",
       "      <td>https://cdn.pixabay.com/photo/2022/04/09/18/06...</td>\n",
       "      <td>Cape Marguerite, Flower, Plant</td>\n",
       "      <td>39 Likes</td>\n",
       "      <td>15 Comments</td>\n",
       "      <td>Images/cape-marguerite-7121992__340.jpg</td>\n",
       "    </tr>\n",
       "  </tbody>\n",
       "</table>\n",
       "</div>"
      ],
      "text/plain": [
       "                                            Img_link  \\\n",
       "0  https://cdn.pixabay.com/photo/2022/03/06/05/30...   \n",
       "1  https://cdn.pixabay.com/photo/2022/04/07/11/45...   \n",
       "2  https://cdn.pixabay.com/photo/2022/02/28/15/28...   \n",
       "3  https://cdn.pixabay.com/photo/2022/04/04/02/52...   \n",
       "4  https://cdn.pixabay.com/photo/2022/04/09/18/06...   \n",
       "\n",
       "                                   Tags      Likes       Comments  \\\n",
       "0     Clouds, Sky, Atmosphere, Blue Sky  196 Likes   55 Comments    \n",
       "1        Bird, Ornithology, Hummingbird   76 Likes   20 Comments    \n",
       "2   Sea, Rainbow, Rainfall, Subtropical  282 Likes  106 Comments    \n",
       "3  Cherry Blossoms, Road, Japan, Sakura   42 Likes   11 Comments    \n",
       "4        Cape Marguerite, Flower, Plant   39 Likes   15 Comments    \n",
       "\n",
       "                                      Path  \n",
       "0           Images/clouds-7050884__480.jpg  \n",
       "1             Images/bird-7117346__340.jpg  \n",
       "2              Images/sea-7039471__340.jpg  \n",
       "3  Images/cherry-blossoms-7110279__340.jpg  \n",
       "4  Images/cape-marguerite-7121992__340.jpg  "
      ]
     },
     "execution_count": 32,
     "metadata": {},
     "output_type": "execute_result"
    }
   ],
   "source": [
    "df.head()"
   ]
  },
  {
   "cell_type": "code",
   "execution_count": 34,
   "id": "5c51208a-177d-4040-988c-f6067454559a",
   "metadata": {},
   "outputs": [],
   "source": [
    "df.to_csv('Download Img Scrape.csv',index=False)"
   ]
  },
  {
   "cell_type": "code",
   "execution_count": null,
   "id": "73122b6e-ec3d-4960-bb5b-117e36c0a8df",
   "metadata": {},
   "outputs": [],
   "source": []
  },
  {
   "cell_type": "code",
   "execution_count": null,
   "id": "b3653afb-16e2-4958-a838-8d94fbb8515c",
   "metadata": {},
   "outputs": [],
   "source": []
  },
  {
   "cell_type": "code",
   "execution_count": null,
   "id": "6bb75f86-09a6-4db0-833c-79ed3f30b32d",
   "metadata": {},
   "outputs": [],
   "source": []
  },
  {
   "cell_type": "code",
   "execution_count": null,
   "id": "53e5a5a7-4066-403e-8f7a-2a381f8e99fe",
   "metadata": {},
   "outputs": [],
   "source": []
  },
  {
   "cell_type": "code",
   "execution_count": null,
   "id": "cf8afefe-ff6f-4ba9-af6d-da5244a58473",
   "metadata": {},
   "outputs": [],
   "source": []
  },
  {
   "cell_type": "code",
   "execution_count": null,
   "id": "2d4c1ae8-7628-46fa-84ba-d845a4eccd2c",
   "metadata": {},
   "outputs": [],
   "source": []
  },
  {
   "cell_type": "code",
   "execution_count": null,
   "id": "ff545d24-e9e2-4d0a-b4f5-53e25c4a9e3f",
   "metadata": {},
   "outputs": [],
   "source": []
  },
  {
   "cell_type": "code",
   "execution_count": null,
   "id": "87b3c5fa-648f-4915-990c-703e083b7af8",
   "metadata": {},
   "outputs": [],
   "source": []
  }
 ],
 "metadata": {
  "kernelspec": {
   "display_name": "Python 3 (ipykernel)",
   "language": "python",
   "name": "python3"
  },
  "language_info": {
   "codemirror_mode": {
    "name": "ipython",
    "version": 3
   },
   "file_extension": ".py",
   "mimetype": "text/x-python",
   "name": "python",
   "nbconvert_exporter": "python",
   "pygments_lexer": "ipython3",
   "version": "3.12.4"
  }
 },
 "nbformat": 4,
 "nbformat_minor": 5
}
